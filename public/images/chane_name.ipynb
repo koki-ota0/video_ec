{
 "cells": [
  {
   "cell_type": "code",
   "execution_count": 5,
   "metadata": {},
   "outputs": [],
   "source": [
    "import os\n",
    "import glob\n",
    "\n",
    "# ファイル名を変更\n",
    "def rename_files():\n",
    "    # ファイル名のリストを取得\n",
    "    files = glob.glob('*.jpg')\n",
    "    n = 1\n",
    "    for file in files:\n",
    "        # ファイル名を変更\n",
    "        while os.path.exists(\"movie\" + str(n) + \".jpg\"):\n",
    "            n += 1\n",
    "        os.rename(file, \"movie\" + str(n) + \".jpg\")\n",
    "        n += 1"
   ]
  },
  {
   "cell_type": "code",
   "execution_count": 7,
   "metadata": {},
   "outputs": [],
   "source": [
    "rename_files()"
   ]
  }
 ],
 "metadata": {
  "kernelspec": {
   "display_name": "Python 3",
   "language": "python",
   "name": "python3"
  },
  "language_info": {
   "codemirror_mode": {
    "name": "ipython",
    "version": 3
   },
   "file_extension": ".py",
   "mimetype": "text/x-python",
   "name": "python",
   "nbconvert_exporter": "python",
   "pygments_lexer": "ipython3",
   "version": "3.11.5"
  }
 },
 "nbformat": 4,
 "nbformat_minor": 2
}
